{
 "cells": [
  {
   "cell_type": "markdown",
   "id": "631189e6",
   "metadata": {},
   "source": [
    "# Exploratory Data Analysis (EDA) \n",
    "\n",
    "This notebook walks through the key steps of analyzing the insurance risk dataset, using functions from `eda.py`. Each section includes explanations and results.\n",
    "\n"
   ]
  },
  {
   "cell_type": "code",
   "execution_count": 7,
   "id": "8731623a",
   "metadata": {},
   "outputs": [],
   "source": [
    "import sys\n",
    "import os\n",
    "sys.path.append(os.path.abspath(os.path.join(os.getcwd(), '..', 'src')))\n",
    "\n",
    "\n",
    "from data_loader import load_data\n",
    "\n",
    "# src_path = os.path.join(parent_dir, 'src')\n",
    "\n",
    "# if src_path not in sys.path:\n",
    "#     sys.path.append(src_path)\n",
    "\n",
    "# Now you can import from eda\n",
    "from src.eda import (\n",
    "    calculate_loss_ratio, plot_loss_ratio,\n",
    "    analyze_distributions, analyze_temporal_trends, analyze_vehicle_claims,\n",
    "    plot_correlation_heatmap, plot_top_categorical_counts, plot_monthly_zipcode_trends\n",
    ")\n",
    "\n",
    "import matplotlib.pyplot as plt\n",
    "%matplotlib inline\n"
   ]
  },
  {
   "cell_type": "markdown",
   "id": "93a4188b",
   "metadata": {},
   "source": [
    "## 1. Load the Data\n",
    "\n",
    "We load the cleaned dataset and check basic shape and missingness.\n"
   ]
  },
  {
   "cell_type": "code",
   "execution_count": null,
   "id": "553f221d",
   "metadata": {},
   "outputs": [
    {
     "name": "stderr",
     "output_type": "stream",
     "text": [
      "c:\\Users\\tsion\\insurance-risk-analytics\\src\\data_loader.py:9: DtypeWarning: Columns (4,31) have mixed types. Specify dtype option on import or set low_memory=False.\n",
      "  df = pd.read_csv(file_path, sep='|', encoding='utf-8')\n"
     ]
    },
    {
     "name": "stdout",
     "output_type": "stream",
     "text": [
      "Rows: 1000098, Columns: 46\n"
     ]
    },
    {
     "data": {
      "text/plain": [
       "Citizenship    895210\n",
       "dtype: int64"
      ]
     },
     "execution_count": 12,
     "metadata": {},
     "output_type": "execute_result"
    }
   ],
   "source": [
    "PROCESSED_DATA_PATH = '../data/processed/MachineLearningRating_v3_processed.txt'\n",
    "df = load_data(PROCESSED_DATA_PATH)\n",
    "print(f\"Rows: {len(df)}, Columns: {len(df.columns)}\")\n",
    "\n"
   ]
  },
  {
   "cell_type": "markdown",
   "id": "413f3ce9",
   "metadata": {},
   "source": [
    "## 2. Loss Ratio Analysis\n",
    "\n",
    "Calculate the overall and grouped loss ratios (Claims / Premiums), then visualize them.\n"
   ]
  },
  {
   "cell_type": "code",
   "execution_count": null,
   "id": "d9f283bc",
   "metadata": {},
   "outputs": [
    {
     "ename": "KeyError",
     "evalue": "'TotalClaims'",
     "output_type": "error",
     "traceback": [
      "\u001b[31m---------------------------------------------------------------------------\u001b[39m",
      "\u001b[31mKeyError\u001b[39m                                  Traceback (most recent call last)",
      "\u001b[36mCell\u001b[39m\u001b[36m \u001b[39m\u001b[32mIn[6]\u001b[39m\u001b[32m, line 1\u001b[39m\n\u001b[32m----> \u001b[39m\u001b[32m1\u001b[39m loss_data = \u001b[43mcalculate_loss_ratio\u001b[49m\u001b[43m(\u001b[49m\u001b[43mdf\u001b[49m\u001b[43m)\u001b[49m\n\u001b[32m      2\u001b[39m \u001b[38;5;28mprint\u001b[39m(\u001b[33mf\u001b[39m\u001b[33m\"\u001b[39m\u001b[33mOverall Loss Ratio: \u001b[39m\u001b[38;5;132;01m{\u001b[39;00mloss_data[\u001b[33m'\u001b[39m\u001b[33moverall\u001b[39m\u001b[33m'\u001b[39m]\u001b[38;5;132;01m:\u001b[39;00m\u001b[33m.2%\u001b[39m\u001b[38;5;132;01m}\u001b[39;00m\u001b[33m\"\u001b[39m)\n\u001b[32m      3\u001b[39m plot_loss_ratio(loss_data)\n",
      "\u001b[36mFile \u001b[39m\u001b[32mc:\\Users\\tsion\\insurance-risk-analytics\\src\\eda.py:25\u001b[39m, in \u001b[36mcalculate_loss_ratio\u001b[39m\u001b[34m(df)\u001b[39m\n\u001b[32m     24\u001b[39m \u001b[38;5;28;01mdef\u001b[39;00m\u001b[38;5;250m \u001b[39m\u001b[34mcalculate_loss_ratio\u001b[39m(df: pd.DataFrame) -> \u001b[38;5;28mdict\u001b[39m:\n\u001b[32m---> \u001b[39m\u001b[32m25\u001b[39m     overall_lr = \u001b[43mdf\u001b[49m\u001b[43m[\u001b[49m\u001b[33;43m'\u001b[39;49m\u001b[33;43mTotalClaims\u001b[39;49m\u001b[33;43m'\u001b[39;49m\u001b[43m]\u001b[49m.sum() / df[\u001b[33m'\u001b[39m\u001b[33mTotalPremium\u001b[39m\u001b[33m'\u001b[39m].sum()\n\u001b[32m     26\u001b[39m     lr_by_province = df.groupby(\u001b[33m'\u001b[39m\u001b[33mProvince\u001b[39m\u001b[33m'\u001b[39m).apply(\u001b[38;5;28;01mlambda\u001b[39;00m x: x[\u001b[33m'\u001b[39m\u001b[33mTotalClaims\u001b[39m\u001b[33m'\u001b[39m].sum() / x[\u001b[33m'\u001b[39m\u001b[33mTotalPremium\u001b[39m\u001b[33m'\u001b[39m].sum()).reset_index(name=\u001b[33m'\u001b[39m\u001b[33mLossRatio\u001b[39m\u001b[33m'\u001b[39m)\n\u001b[32m     27\u001b[39m     lr_by_vehicle = df.groupby(\u001b[33m'\u001b[39m\u001b[33mVehicleType\u001b[39m\u001b[33m'\u001b[39m).apply(\u001b[38;5;28;01mlambda\u001b[39;00m x: x[\u001b[33m'\u001b[39m\u001b[33mTotalClaims\u001b[39m\u001b[33m'\u001b[39m].sum() / x[\u001b[33m'\u001b[39m\u001b[33mTotalPremium\u001b[39m\u001b[33m'\u001b[39m].sum()).reset_index(name=\u001b[33m'\u001b[39m\u001b[33mLossRatio\u001b[39m\u001b[33m'\u001b[39m)\n",
      "\u001b[36mFile \u001b[39m\u001b[32mc:\\Users\\tsion\\insurance-risk-analytics\\.venv\\Lib\\site-packages\\pandas\\core\\frame.py:4107\u001b[39m, in \u001b[36mDataFrame.__getitem__\u001b[39m\u001b[34m(self, key)\u001b[39m\n\u001b[32m   4105\u001b[39m \u001b[38;5;28;01mif\u001b[39;00m \u001b[38;5;28mself\u001b[39m.columns.nlevels > \u001b[32m1\u001b[39m:\n\u001b[32m   4106\u001b[39m     \u001b[38;5;28;01mreturn\u001b[39;00m \u001b[38;5;28mself\u001b[39m._getitem_multilevel(key)\n\u001b[32m-> \u001b[39m\u001b[32m4107\u001b[39m indexer = \u001b[38;5;28;43mself\u001b[39;49m\u001b[43m.\u001b[49m\u001b[43mcolumns\u001b[49m\u001b[43m.\u001b[49m\u001b[43mget_loc\u001b[49m\u001b[43m(\u001b[49m\u001b[43mkey\u001b[49m\u001b[43m)\u001b[49m\n\u001b[32m   4108\u001b[39m \u001b[38;5;28;01mif\u001b[39;00m is_integer(indexer):\n\u001b[32m   4109\u001b[39m     indexer = [indexer]\n",
      "\u001b[36mFile \u001b[39m\u001b[32mc:\\Users\\tsion\\insurance-risk-analytics\\.venv\\Lib\\site-packages\\pandas\\core\\indexes\\range.py:417\u001b[39m, in \u001b[36mRangeIndex.get_loc\u001b[39m\u001b[34m(self, key)\u001b[39m\n\u001b[32m    415\u001b[39m         \u001b[38;5;28;01mraise\u001b[39;00m \u001b[38;5;167;01mKeyError\u001b[39;00m(key) \u001b[38;5;28;01mfrom\u001b[39;00m\u001b[38;5;250m \u001b[39m\u001b[34;01merr\u001b[39;00m\n\u001b[32m    416\u001b[39m \u001b[38;5;28;01mif\u001b[39;00m \u001b[38;5;28misinstance\u001b[39m(key, Hashable):\n\u001b[32m--> \u001b[39m\u001b[32m417\u001b[39m     \u001b[38;5;28;01mraise\u001b[39;00m \u001b[38;5;167;01mKeyError\u001b[39;00m(key)\n\u001b[32m    418\u001b[39m \u001b[38;5;28mself\u001b[39m._check_indexing_error(key)\n\u001b[32m    419\u001b[39m \u001b[38;5;28;01mraise\u001b[39;00m \u001b[38;5;167;01mKeyError\u001b[39;00m(key)\n",
      "\u001b[31mKeyError\u001b[39m: 'TotalClaims'"
     ]
    }
   ],
   "source": [
    "loss_data = calculate_loss_ratio(df)\n",
    "print(f\"Overall Loss Ratio: {loss_data['overall']:.2%}\")\n",
    "plot_loss_ratio(loss_data)\n",
    "plt.show()\n"
   ]
  }
 ],
 "metadata": {
  "kernelspec": {
   "display_name": ".venv",
   "language": "python",
   "name": "python3"
  },
  "language_info": {
   "codemirror_mode": {
    "name": "ipython",
    "version": 3
   },
   "file_extension": ".py",
   "mimetype": "text/x-python",
   "name": "python",
   "nbconvert_exporter": "python",
   "pygments_lexer": "ipython3",
   "version": "3.13.3"
  }
 },
 "nbformat": 4,
 "nbformat_minor": 5
}
